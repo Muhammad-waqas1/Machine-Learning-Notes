{
 "cells": [
  {
   "cell_type": "markdown",
   "metadata": {},
   "source": [
    "# Types of Scaling Data:\n",
    "1) Standard Scalar (-3 ~~~~~~~ 3)\n",
    "2) Min-Max Scalar (0 ~~~~~~~ 1)\n",
    "2) Max-Abs Scalar (-1 ~~~~~~~ 1)"
   ]
  },
  {
   "cell_type": "markdown",
   "metadata": {},
   "source": [
    "![alt text](sphx_glr_plot_map_data_to_normal_001.png)"
   ]
  },
  {
   "cell_type": "markdown",
   "metadata": {},
   "source": [
    "# Normalization\n",
    "\n"
   ]
  }
 ],
 "metadata": {
  "language_info": {
   "name": "python"
  }
 },
 "nbformat": 4,
 "nbformat_minor": 2
}
